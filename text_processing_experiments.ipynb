{
 "cells": [
  {
   "cell_type": "code",
   "execution_count": 10,
   "id": "b7f4b1e8",
   "metadata": {},
   "outputs": [
    {
     "name": "stdout",
     "output_type": "stream",
     "text": [
      "Connection successful!\n",
      "Current Time: (datetime.datetime(2025, 9, 29, 13, 6, 12, 668068, tzinfo=datetime.timezone.utc),)\n"
     ]
    }
   ],
   "source": [
    "import psycopg2\n",
    "from dotenv import load_dotenv\n",
    "import os\n",
    "import pandas as pd\n",
    "\n",
    "# Load environment variables from .env\n",
    "load_dotenv()\n",
    "\n",
    "# Fetch variables\n",
    "USER = os.getenv(\"user\")\n",
    "PASSWORD = os.getenv(\"password\")\n",
    "HOST = os.getenv(\"host\")\n",
    "PORT = os.getenv(\"port\")\n",
    "DBNAME = os.getenv(\"dbname\")\n",
    "\n",
    "\n",
    "connection = psycopg2.connect(\n",
    "    user=USER,\n",
    "    password=PASSWORD,\n",
    "    host=HOST,\n",
    "    port=PORT,\n",
    "    dbname=DBNAME\n",
    ")\n",
    "print(\"Connection successful!\")\n",
    "\n",
    "# Create a cursor to execute SQL queries\n",
    "cursor = connection.cursor()\n",
    "\n",
    "# Example query\n",
    "cursor.execute(\"SELECT NOW();\")\n",
    "result = cursor.fetchone()\n",
    "print(f\"Current Time: {result}\", )\n",
    "\n",
    "\n",
    "\n"
   ]
  },
  {
   "cell_type": "code",
   "execution_count": 11,
   "id": "a41720d0",
   "metadata": {},
   "outputs": [],
   "source": [
    "# Query to fetch transcripts (exclude NULL transcripts)\n",
    "query = \"SELECT transcript FROM __youtube_transcripts WHERE transcript IS NOT NULL LIMIT 100;\"\n",
    "cursor.execute(query)\n"
   ]
  },
  {
   "cell_type": "code",
   "execution_count": 14,
   "id": "dcfd5a0c",
   "metadata": {},
   "outputs": [
    {
     "name": "stdout",
     "output_type": "stream",
     "text": [
      "Number of transcripts: 499\n",
      "Total words: 517796\n",
      "Estimated BERT tokens: 673134.80\n",
      "Total size: 3.01 MB\n"
     ]
    }
   ],
   "source": [
    "# SQL query to estimate tokens\n",
    "query = \"\"\"\n",
    "SELECT\n",
    "    COUNT(*) AS num_transcripts,\n",
    "    COALESCE(SUM(ARRAY_LENGTH(STRING_TO_ARRAY(transcript, ' '), 1)), 0) AS total_words,\n",
    "    COALESCE(SUM(ARRAY_LENGTH(STRING_TO_ARRAY(transcript, ' '), 1)) * 1.3, 0) AS estimated_tokens,\n",
    "    COALESCE(SUM(LENGTH(transcript)) / 1024.0 / 1024.0, 0) AS total_mb\n",
    "FROM __youtube_transcripts\n",
    "WHERE transcript IS NOT NULL AND transcript != '';\n",
    "\"\"\"\n",
    "cursor.execute(query)\n",
    "\n",
    "result = cursor.fetchone()\n",
    "\n",
    "# Parse results\n",
    "num_transcripts, total_words, estimated_tokens, total_mb = result\n",
    "print(f\"Number of transcripts: {num_transcripts}\")\n",
    "print(f\"Total words: {total_words}\")\n",
    "print(f\"Estimated BERT tokens: {estimated_tokens:.2f}\")\n",
    "print(f\"Total size: {total_mb:.2f} MB\")"
   ]
  },
  {
   "cell_type": "code",
   "execution_count": null,
   "id": "0bd41ded",
   "metadata": {},
   "outputs": [],
   "source": [
    "# Verify table and column exist\n",
    "cursor.execute(\"\"\"\n",
    "    SELECT column_name\n",
    "    FROM information_schema.columns\n",
    "    WHERE table_schema = 'public' AND table_name = '__youtube_transcripts' AND column_name = 'transcript';\n",
    "\"\"\")\n",
    "if not cursor.fetchone():\n",
    "    raise Exception(\"Table '__youtube_transcripts' or column 'transcript' not found.\")"
   ]
  }
 ],
 "metadata": {
  "kernelspec": {
   "display_name": "knowledge-mining-agent-zksbq75R-py3.11",
   "language": "python",
   "name": "python3"
  },
  "language_info": {
   "codemirror_mode": {
    "name": "ipython",
    "version": 3
   },
   "file_extension": ".py",
   "mimetype": "text/x-python",
   "name": "python",
   "nbconvert_exporter": "python",
   "pygments_lexer": "ipython3",
   "version": "3.11.6"
  }
 },
 "nbformat": 4,
 "nbformat_minor": 5
}
